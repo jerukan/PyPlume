{
 "cells": [
  {
   "cell_type": "code",
   "execution_count": null,
   "metadata": {},
   "outputs": [],
   "source": [
    "import pyplume.runner as runner\n",
    "import pyplume.utils as utils"
   ]
  },
  {
   "cell_type": "code",
   "execution_count": null,
   "metadata": {},
   "outputs": [],
   "source": [
    "base_cfg_path = \"plume_track.json\"\n",
    "set_spawn = [32.5465163705279, -117.136650202502]\n",
    "\n",
    "replacements = [\n",
    "    {\n",
    "        \"name\": \"plume_track_freeslip\",\n",
    "        \"parcels_config\": {\"spawn_points\": [[32.555, -117.15]]},\n",
    "    },\n",
    "    {\n",
    "        \"name\": \"plume_track_alongshore\",\n",
    "        \"netcdf_data\": {\"alongshore\": \"data/field_netcdfs/tijuana_alongshore.nc\"},\n",
    "        \"parcels_config\": {\n",
    "            \"kernels\": [\"AdvectionRK4BorderCheck\", \"AgeParticle\", \"RandomWalk\"],\n",
    "            \"spawn_points\": [[32.555, -117.15]],\n",
    "        },\n",
    "    },\n",
    "]"
   ]
  },
  {
   "cell_type": "code",
   "execution_count": null,
   "metadata": {},
   "outputs": [],
   "source": [
    "import copy\n",
    "\n",
    "\n",
    "def _replace_data(cfg, replacement):\n",
    "    \"\"\"Modifies in-place\"\"\"\n",
    "    for key in replacement:\n",
    "        if isinstance(replacement[key], dict):\n",
    "            if key not in cfg:\n",
    "                cfg[key] = {}\n",
    "            _replace_data(cfg[key], replacement[key])\n",
    "        else:\n",
    "            cfg[key] = replacement[key]\n",
    "\n",
    "\n",
    "def replace_config_data(cfg, replacement):\n",
    "    cfg_copy = copy.deepcopy(cfg)\n",
    "    _replace_data(cfg_copy, replacement)\n",
    "    return cfg_copy\n",
    "\n",
    "\n",
    "base_cfg = utils.load_config(utils.PARCELS_CONFIGS_DIR / base_cfg_path)\n",
    "cfgs = [replace_config_data(base_cfg, replacement) for replacement in replacements]"
   ]
  },
  {
   "cell_type": "code",
   "execution_count": null,
   "metadata": {},
   "outputs": [],
   "source": [
    "sims = []\n",
    "for cfg in cfgs:\n",
    "    sim = runner.prep_sims_from_cfg(cfg)\n",
    "    sims.append(sim)"
   ]
  },
  {
   "cell_type": "code",
   "execution_count": null,
   "metadata": {},
   "outputs": [],
   "source": [
    "for sim in sims:\n",
    "    sim.execute()"
   ]
  },
  {
   "cell_type": "code",
   "execution_count": null,
   "metadata": {},
   "outputs": [],
   "source": [
    "pr = sims[0].parcels_result"
   ]
  },
  {
   "cell_type": "code",
   "execution_count": null,
   "metadata": {},
   "outputs": [],
   "source": [
    "pr.plot_at_t(1, domain={\"S\": 32.5, \"N\": 32.6, \"W\": -117.2, \"E\": -117.1})"
   ]
  },
  {
   "cell_type": "code",
   "execution_count": null,
   "metadata": {},
   "outputs": [],
   "source": [
    "pr.data_vars.keys()"
   ]
  },
  {
   "cell_type": "code",
   "execution_count": null,
   "metadata": {},
   "outputs": [],
   "source": [
    "pr.data_vars[\"lat\"]"
   ]
  },
  {
   "cell_type": "code",
   "execution_count": null,
   "metadata": {},
   "outputs": [],
   "source": [
    "import numpy as np"
   ]
  },
  {
   "cell_type": "code",
   "execution_count": null,
   "metadata": {},
   "outputs": [],
   "source": [
    "x = np.array([1, 2, 3])"
   ]
  },
  {
   "cell_type": "code",
   "execution_count": null,
   "metadata": {},
   "outputs": [],
   "source": [
    "np.array([x])"
   ]
  }
 ],
 "metadata": {
  "kernelspec": {
   "display_name": "Python 3.7.10 ('py3-parcels')",
   "language": "python",
   "name": "python3"
  },
  "language_info": {
   "codemirror_mode": {
    "name": "ipython",
    "version": 3
   },
   "file_extension": ".py",
   "mimetype": "text/x-python",
   "name": "python",
   "nbconvert_exporter": "python",
   "pygments_lexer": "ipython3",
   "version": "3.7.10"
  },
  "orig_nbformat": 4,
  "vscode": {
   "interpreter": {
    "hash": "0eba6c4b74a2f8ee4f11000f0a8df2ef42b87fd4ae75b12d527f1b8c08aad6c6"
   }
  }
 },
 "nbformat": 4,
 "nbformat_minor": 2
}
