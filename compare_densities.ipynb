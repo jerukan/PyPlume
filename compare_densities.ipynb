{
 "cells": [
  {
   "cell_type": "code",
   "execution_count": null,
   "metadata": {},
   "outputs": [],
   "source": [
    "%matplotlib inline\n",
    "%load_ext autoreload\n",
    "%autoreload 2"
   ]
  },
  {
   "cell_type": "code",
   "execution_count": null,
   "metadata": {},
   "outputs": [],
   "source": [
    "from functools import reduce\n",
    "from pathlib import Path\n",
    "\n",
    "import numpy as np\n",
    "import xarray as xr\n",
    "\n",
    "from pyplume import utils, plotting, constants\n",
    "from pyplume.dataloaders import load_geo_points\n",
    "from pyplume.postprocess import ParticleResult"
   ]
  },
  {
   "cell_type": "code",
   "execution_count": null,
   "metadata": {},
   "outputs": [],
   "source": [
    "result_dirs = {\n",
    "    \"Kay HFR\": \"results/tijuana_hurrkay_2023-06-30T14-59-51/simulation_hfrnet uwls_2023-06-30T14-59-54\",\n",
    "    \"Kay OI\": \"results/tijuana_hurrkay_2023-06-30T14-59-51/simulation_hfrnet oi_2023-06-30T14-59-55\",\n",
    "    \"Henri HFR\": \"results/ny_hurrhenri_2023-06-30T16-22-57/simulation_hfrnet_2023-06-30T16-23-04\",\n",
    "    \"Henri HYCOM\": \"results/ny_hurrhenri_2023-06-30T16-22-57/simulation_hycom_2023-06-30T16-23-04\",\n",
    "}\n",
    "to_compare = [\"Henri HFR\", \"Henri HYCOM\"]\n",
    "# to_compare = [\"Kay HFR\", \"Kay OI\"]\n",
    "coast_lats, coast_lons = None, None\n",
    "# coast_lats, coast_lons = load_geo_points(\"data/coastOR2Mex_tijuana.mat\")\n",
    "results = {}\n",
    "fields = {}\n",
    "\n",
    "# domain = constants.TIJUANA_RIVER_DOMAIN\n",
    "domain = {\"S\": 40.2, \"N\": 40.7, \"W\": -74.1, \"E\": -73.2}\n",
    "# domain = {\n",
    "#     \"S\": 38.5,\n",
    "#     \"N\": 39.2,\n",
    "#     \"W\": -75,\n",
    "#     \"E\": -74\n",
    "# }\n",
    "\n",
    "res_path = Path(f\"results/compare_density_{'_'.join(to_compare)}\")\n",
    "res_path.mkdir(exist_ok=True)\n",
    "\n",
    "for name, path in result_dirs.items():\n",
    "    resdir = Path(path)\n",
    "    results[name] = ParticleResult(resdir / \"particlefile.nc\")\n",
    "    fields[name] = xr.open_dataset(resdir / \"ocean_dataset_modified.nc\")"
   ]
  },
  {
   "cell_type": "code",
   "execution_count": null,
   "metadata": {},
   "outputs": [],
   "source": [
    "# common_timestamps = np.intersect1d(results[to_compare[0]].data_vars[\"time\"], results[to_compare[1]].data_vars[\"time\"])\n",
    "if len(to_compare) <= 1:\n",
    "    tstamps = results[to_compare[0]].data_vars[\"time\"]\n",
    "    tstamps = tstamps[~np.isnan(tstamps)]\n",
    "    common_timestamps = np.sort(np.unique(tstamps))\n",
    "else:\n",
    "    common_timestamps = reduce(\n",
    "        np.intersect1d, list(map(lambda x: results[x].data_vars[\"time\"], to_compare))\n",
    "    )"
   ]
  },
  {
   "cell_type": "code",
   "execution_count": null,
   "metadata": {},
   "outputs": [],
   "source": [
    "for i, t in enumerate(common_timestamps):\n",
    "    c0 = to_compare[0]\n",
    "    c1 = to_compare[1]\n",
    "    lats1, lons1 = results[c0].get_positions_time(t, query=\"before\")\n",
    "    lats2, lons2 = results[c1].get_positions_time(t, query=\"before\")\n",
    "    fig, (ax1, ax2) = plotting.carree_subplots((1, 2), domain=domain, land=coast_lats is None)\n",
    "    plotting.plot_vectorfield(fields[c0], show_time=\"average\", ax=ax1, color_speed=False)\n",
    "    plotting.plot_particle_density(\n",
    "        lats1,\n",
    "        lons1,\n",
    "        bins=100,\n",
    "        ax=ax1,\n",
    "        pmax=1,\n",
    "        title=f\"{c0} cumulative density at\\n{t.astype('datetime64[s]')}\",\n",
    "    )\n",
    "    plotting.plot_vectorfield(fields[c1], show_time=\"average\", ax=ax2, color_speed=False)\n",
    "    plotting.plot_particle_density(\n",
    "        lats2,\n",
    "        lons2,\n",
    "        bins=100,\n",
    "        ax=ax2,\n",
    "        pmax=1,\n",
    "        title=f\"{c1} cumulative density at\\n{t.astype('datetime64[s]')}\",\n",
    "    )\n",
    "    if coast_lats is not None:\n",
    "        plotting.plot_coastline(coast_lats, coast_lons, ax=ax1, c=\"k\")\n",
    "        plotting.plot_coastline(coast_lats, coast_lons, ax=ax2, c=\"k\")\n",
    "    strnum = str(i).zfill(3)\n",
    "    plotting.draw_plt(\n",
    "        savefile=res_path / f\"plot_{strnum}\", fig=fig, fit=True, figsize=(12, 6)\n",
    "    )"
   ]
  },
  {
   "cell_type": "code",
   "execution_count": null,
   "metadata": {},
   "outputs": [],
   "source": [
    "# save plot as final timestamps\n",
    "\n",
    "t = common_timestamps[-1]\n",
    "for i, name in enumerate(to_compare):\n",
    "    starts = np.unique(\n",
    "        np.array([results[name].ds[\"lat\"][:, 0], results[name].ds[\"lon\"][:, 0]]).T,\n",
    "        axis=0,\n",
    "    ).T\n",
    "    lats, lons = results[name].get_positions_time(t, query=\"before\")\n",
    "    fig, ax = plotting.carree_subplots((1, 1), domain=domain, land=True)\n",
    "    # plotting.plot_vectorfield(fields[name], show_time=\"average\", ax=ax, color_speed=False)\n",
    "    plotting.plot_particle_density(\n",
    "        lats,\n",
    "        lons,\n",
    "        bins=50,\n",
    "        ax=ax,\n",
    "        pmax=0.76,\n",
    "        title=f\"{name} cumulative density at\\n{t.astype('datetime64[s]')}\",\n",
    "    )\n",
    "    # plotting.plot_vectorfield(fields[name], show_time=\"average\", ax=ax, color_speed=False, titlestr=False)\n",
    "    # plotting.plot_coastline(coast_lats, coast_lons, ax=ax, c=\"k\")\n",
    "    ax.scatter(starts[1], starts[0], marker=\"x\", c=\"r\")\n",
    "    plotting.draw_plt(\n",
    "        savefile=res_path / f\"density_plot_final_{name}.png\",\n",
    "        fig=fig,\n",
    "        fit=True,\n",
    "        figsize=(7, 4.5),\n",
    "    )"
   ]
  }
 ],
 "metadata": {
  "kernelspec": {
   "display_name": "Python 3.7.10 ('py3-parcels')",
   "language": "python",
   "name": "python3"
  },
  "language_info": {
   "codemirror_mode": {
    "name": "ipython",
    "version": 3
   },
   "file_extension": ".py",
   "mimetype": "text/x-python",
   "name": "python",
   "nbconvert_exporter": "python",
   "pygments_lexer": "ipython3",
   "version": "3.11.3"
  },
  "orig_nbformat": 4,
  "vscode": {
   "interpreter": {
    "hash": "0eba6c4b74a2f8ee4f11000f0a8df2ef42b87fd4ae75b12d527f1b8c08aad6c6"
   }
  }
 },
 "nbformat": 4,
 "nbformat_minor": 2
}
