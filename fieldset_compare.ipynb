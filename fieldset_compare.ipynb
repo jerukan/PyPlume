{
 "cells": [
  {
   "attachments": {},
   "cell_type": "markdown",
   "metadata": {},
   "source": [
    "# fieldset_compare\n",
    "\n",
    "compare the vector fields of different fieldsets\n",
    "\n",
    "mainly used for checking the differences between the plume tracker OI data vs the thredds data"
   ]
  },
  {
   "cell_type": "code",
   "execution_count": null,
   "metadata": {},
   "outputs": [],
   "source": [
    "%matplotlib inline\n",
    "%load_ext autoreload\n",
    "%autoreload 2"
   ]
  },
  {
   "cell_type": "code",
   "execution_count": null,
   "metadata": {},
   "outputs": [],
   "source": [
    "from datetime import timedelta\n",
    "import math\n",
    "\n",
    "import cartopy\n",
    "import cartopy.crs as ccrs\n",
    "import xarray as xr\n",
    "import numpy as np\n",
    "import matplotlib.pyplot as plt\n",
    "from parcels import (\n",
    "    FieldSet,\n",
    "    ParticleSet,\n",
    "    JITParticle,\n",
    "    AdvectionRK4,\n",
    "    ErrorCode,\n",
    "    ParticleFile,\n",
    ")\n",
    "import scipy.spatial\n",
    "\n",
    "import pyplume.utils as utils\n",
    "from pyplume.dataloaders import DataLoader, dataset_to_fieldset\n",
    "from pyplume.plotting import get_carree_axis, get_carree_gl, plot_vectorfield, carree_subplots\n",
    "from pyplume.constants import FIELD_NETCDF_DIR"
   ]
  },
  {
   "cell_type": "code",
   "execution_count": null,
   "metadata": {},
   "outputs": [],
   "source": [
    "filenames = [\n",
    "    FIELD_NETCDF_DIR / \"tj_plume_1km_2022-09.nc\",\n",
    "    FIELD_NETCDF_DIR / \"oi_fields/Tot_SDLJ_202209.nc\",\n",
    "]\n",
    "\n",
    "files = []\n",
    "for fname in filenames:\n",
    "    ds = DataLoader(fname).dataset\n",
    "    fs = dataset_to_fieldset(ds)\n",
    "    files.append({\"ds\": ds, \"fs\": fs})\n",
    "\n",
    "domain = {\"S\": 32.525, \"N\": 32.7, \"W\": -117.27, \"E\": -117.09}\n",
    "\n",
    "# if lat and lon dimensions are the same, the stuff will run MUCH quicker\n",
    "dimensions_same = True"
   ]
  },
  {
   "attachments": {},
   "cell_type": "markdown",
   "metadata": {},
   "source": [
    "### comparing fieldset vectors\n",
    "\n",
    "takes the first vector field, and checks each vector. finds the closest vector in the second vector field, and finds their angle and magnitude difference\n",
    "\n",
    "note it might take a few minutes to run"
   ]
  },
  {
   "cell_type": "code",
   "execution_count": null,
   "metadata": {},
   "outputs": [],
   "source": [
    "# set up kd trees/methods in order to process fields that do not share the same coordinates\n",
    "for f in files:\n",
    "    f[\"latkdtree\"] = scipy.spatial.cKDTree(np.array([f[\"ds\"][\"lat\"]]).T)\n",
    "    f[\"lonkdtree\"] = scipy.spatial.cKDTree(np.array([f[\"ds\"][\"lon\"]]).T)\n",
    "\n",
    "\n",
    "def get_nearest_index(ref, lat, lon):\n",
    "    return ref[\"latkdtree\"].query([lat])[1], ref[\"lonkdtree\"].query([lon])[1]"
   ]
  },
  {
   "cell_type": "code",
   "execution_count": null,
   "metadata": {
    "scrolled": true
   },
   "outputs": [],
   "source": [
    "overlap_times = np.intersect1d(files[0][\"ds\"][\"time\"], files[1][\"ds\"][\"time\"])\n",
    "\n",
    "# kind of hardcoded\n",
    "ang_diff = np.full(files[0][\"ds\"][\"U\"].shape, np.nan, dtype=np.float32)\n",
    "mag_diff = np.full(ang_diff.shape, np.nan, dtype=np.float32)\n",
    "\n",
    "if not dimensions_same:\n",
    "    for t, i, j in np.ndindex(ang_diff.shape):\n",
    "        time = files[0][\"ds\"][\"time\"].values[t]\n",
    "        u = files[0][\"ds\"][\"U\"].values[t, i, j]\n",
    "        if np.isnan(u) or time not in files[1][\"ds\"][\"time\"]:\n",
    "            continue\n",
    "        # OI data is missing some time values\n",
    "        t_other = np.where(files[1][\"ds\"][\"time\"].values == time)[0]\n",
    "        if t_other.size == 0:\n",
    "            continue\n",
    "        else:\n",
    "            t_other = t_other[0]\n",
    "        lat = files[0][\"ds\"][\"lat\"][i].values\n",
    "        lon = files[0][\"ds\"][\"lon\"][j].values\n",
    "        lat_ind, lon_ind = get_nearest_index(files[1], lat, lon)\n",
    "        #     print(utils.haversine(lat, files[1][\"ds\"][\"lat\"].values[lat_ind], lon, files[1][\"ds\"][\"lon\"].values[lon_ind]))\n",
    "        if (\n",
    "            abs(lat - files[1][\"ds\"][\"lat\"].values[lat_ind]) > 0.00903\n",
    "            or abs(lon - files[1][\"ds\"][\"lon\"].values[lon_ind]) > 0.0107\n",
    "        ):\n",
    "            continue\n",
    "        v = files[0][\"ds\"][\"V\"].values[t, i, j]\n",
    "        u_other = files[1][\"ds\"][\"U\"].values[t_other, lat_ind, lon_ind]\n",
    "        v_other = files[1][\"ds\"][\"V\"].values[t_other, lat_ind, lon_ind]\n",
    "        mag = np.sqrt(u * u + v * v)\n",
    "        mag_other = np.sqrt(u_other * u_other + v_other * v_other)\n",
    "        dot_mag_rat = (u * u_other + v * v_other) / (mag * mag_other)\n",
    "        # rounding errors cause arccos to go out of domain\n",
    "        if dot_mag_rat > 1:\n",
    "            ang = 0\n",
    "        elif dot_mag_rat < -1:\n",
    "            ang = 180\n",
    "        else:\n",
    "            ang = np.arccos(dot_mag_rat) * 180 / math.pi\n",
    "        ang_diff[t, i, j] = ang\n",
    "        mag_diff[t, i, j] = abs(mag - mag_other)\n",
    "else:\n",
    "    # runs significantly quicker (please use this)\n",
    "    u_shape = files[0][\"ds\"][\"U\"].shape\n",
    "    ang_diff = np.full(\n",
    "        (len(overlap_times), u_shape[1], u_shape[2]), np.nan, dtype=np.float32\n",
    "    )\n",
    "    mag_diff = np.full(ang_diff.shape, np.nan, dtype=np.float32)\n",
    "    for i, time in enumerate(overlap_times):\n",
    "        vec_diff_dir = utils.get_dir(\"results/fs_comp_vectors\")\n",
    "        fig = plt.figure()\n",
    "        fig, (ax1, ax2) = carree_subplots((1, 2), domain=domain)\n",
    "        fig.patch.set_facecolor(\"w\")\n",
    "        fig.set_size_inches(12, 5)\n",
    "        fig.tight_layout()\n",
    "        plot_vectorfield(\n",
    "            files[0][\"ds\"],\n",
    "            show_time=time,\n",
    "            vmin=0,\n",
    "            vmax=1,\n",
    "            ax=ax1,\n",
    "            titlestr=\"Thredds\",\n",
    "        )\n",
    "        plot_vectorfield(\n",
    "            files[1][\"ds\"],\n",
    "            show_time=time,\n",
    "            vmin=0,\n",
    "            vmax=1,\n",
    "            ax=ax2,\n",
    "            titlestr=\"OI\",\n",
    "        )\n",
    "        strtime = str(time.astype(\"datetime64[s]\")).replace(\":\", \"-\")\n",
    "        fig.savefig(vec_diff_dir / f\"field_comp_{strtime}.png\")\n",
    "        plt.close(fig)\n",
    "\n",
    "        tidx0 = np.where(files[0][\"ds\"][\"time\"] == time)[0][0]\n",
    "        tidx1 = np.where(files[1][\"ds\"][\"time\"] == time)[0][0]\n",
    "\n",
    "        u0 = files[0][\"ds\"][\"U\"].values[tidx0]\n",
    "        v0 = files[0][\"ds\"][\"V\"].values[tidx0]\n",
    "        u1 = files[1][\"ds\"][\"U\"].values[tidx1]\n",
    "        v1 = files[1][\"ds\"][\"V\"].values[tidx1]\n",
    "\n",
    "        mag0 = np.sqrt(u0**2 + v0**2)\n",
    "        mag1 = np.sqrt(u1**2 + v1**2)\n",
    "        dot_mag_rat = (u0 * u1 + v0 * v1) / (mag0 * mag1)\n",
    "        # rounding errors cause arccos to go out of domain\n",
    "        dot_mag_rat[np.where(dot_mag_rat > 1)] = 1\n",
    "        dot_mag_rat[np.where(dot_mag_rat < -1)] = -1\n",
    "        ang = np.arccos(dot_mag_rat) * 180 / math.pi\n",
    "        ang_diff[i] = ang\n",
    "        mag_diff[i] = abs(mag0 - mag1)"
   ]
  },
  {
   "cell_type": "code",
   "execution_count": null,
   "metadata": {},
   "outputs": [],
   "source": [
    "np.nanmean(ang_diff), np.nanmedian(ang_diff), np.nanmax(ang_diff)"
   ]
  },
  {
   "cell_type": "code",
   "execution_count": null,
   "metadata": {},
   "outputs": [],
   "source": [
    "np.nanmean(mag_diff), np.nanmedian(mag_diff), np.nanmax(mag_diff)"
   ]
  },
  {
   "cell_type": "code",
   "execution_count": null,
   "metadata": {},
   "outputs": [],
   "source": [
    "ang_means = np.nanmean(ang_diff, axis=0)\n",
    "mag_means = np.nanmean(mag_diff, axis=0)"
   ]
  },
  {
   "attachments": {},
   "cell_type": "markdown",
   "metadata": {},
   "source": [
    "distribution of measure differences"
   ]
  },
  {
   "cell_type": "code",
   "execution_count": null,
   "metadata": {},
   "outputs": [],
   "source": [
    "plt.hist(ang_diff[np.where(~np.isnan(ang_diff))].flatten())\n",
    "plt.title(\"angle differences (degrees)\")\n",
    "plt.show()\n",
    "plt.hist(mag_diff[np.where(~np.isnan(mag_diff))].flatten())\n",
    "plt.title(\"magnitude differences (m/s)\")\n",
    "plt.show()"
   ]
  },
  {
   "attachments": {},
   "cell_type": "markdown",
   "metadata": {},
   "source": [
    "generate heatmaps of measure differences"
   ]
  },
  {
   "cell_type": "code",
   "execution_count": null,
   "metadata": {},
   "outputs": [],
   "source": [
    "lon, lat = np.meshgrid(files[0][\"ds\"][\"lon\"].values, files[0][\"ds\"][\"lat\"].values)\n",
    "first_time = np.datetime64(files[0][\"ds\"][\"time\"][0].values, \"M\")\n",
    "deg_diff_dir = utils.get_dir(\"results/fs_comp_angle\")\n",
    "\n",
    "fig, ax = get_carree_axis(domain)\n",
    "gl = get_carree_gl(ax)\n",
    "plt.contourf(\n",
    "    lon, lat, ang_means, np.linspace(0, np.nanmax(ang_means), 30), cmap=\"inferno\"\n",
    ")\n",
    "plt.title(f\"Avg vector degree diff ({first_time})\")\n",
    "plt.colorbar()\n",
    "plt.savefig(deg_diff_dir / f\"heat_deg_{first_time}\")\n",
    "plt.show()"
   ]
  },
  {
   "cell_type": "code",
   "execution_count": null,
   "metadata": {},
   "outputs": [],
   "source": [
    "deg_diff_dir = utils.get_dir(\"results/fs_comp_mag\")\n",
    "\n",
    "fig, ax = get_carree_axis(domain)\n",
    "gl = get_carree_gl(ax)\n",
    "plt.contourf(\n",
    "    lon, lat, mag_means, np.linspace(0, np.nanmax(mag_means), 20), cmap=\"inferno\"\n",
    ")\n",
    "plt.title(f\"Avg magnitude diff (m/s) ({first_time})\")\n",
    "plt.colorbar()\n",
    "plt.savefig(deg_diff_dir / f\"heat_mag_{first_time}\")\n",
    "plt.show()"
   ]
  }
 ],
 "metadata": {
  "kernelspec": {
   "display_name": "Python 3.7.10 ('py3-parcels')",
   "language": "python",
   "name": "python3"
  },
  "language_info": {
   "codemirror_mode": {
    "name": "ipython",
    "version": 3
   },
   "file_extension": ".py",
   "mimetype": "text/x-python",
   "name": "python",
   "nbconvert_exporter": "python",
   "pygments_lexer": "ipython3",
   "version": "3.7.10"
  },
  "vscode": {
   "interpreter": {
    "hash": "0eba6c4b74a2f8ee4f11000f0a8df2ef42b87fd4ae75b12d527f1b8c08aad6c6"
   }
  }
 },
 "nbformat": 4,
 "nbformat_minor": 4
}
