{
 "cells": [
  {
   "cell_type": "code",
   "execution_count": null,
   "metadata": {},
   "outputs": [],
   "source": [
    "%matplotlib inline\n",
    "%load_ext autoreload\n",
    "%autoreload 2"
   ]
  },
  {
   "cell_type": "code",
   "execution_count": null,
   "metadata": {},
   "outputs": [],
   "source": [
    "import matplotlib.pyplot as plt\n",
    "import numpy as np\n",
    "from scipy.ndimage import uniform_filter1d\n",
    "\n",
    "from pyplume import plotting, utils\n",
    "from pyplume.dataloaders import SurfaceGrid, DataLoader"
   ]
  },
  {
   "cell_type": "code",
   "execution_count": null,
   "metadata": {},
   "outputs": [],
   "source": [
    "targets = {\n",
    "    # \"Tijuana OI\": \"data/field_netcdfs/oi_fields/Tot_SDLJ_202209.nc\",\n",
    "    # \"Tijuana UWLS\": \"data/field_netcdfs/tj_plume_1km_2022-09_interped.nc\",\n",
    "    \"New York/Jersey HFRNet\": \"data/field_netcdfs/hurrhenri_hfrnet.nc\",\n",
    "    \"New York/Jersey HYCOM\": \"data/field_netcdfs/hurrhenri_hycom.nc\",\n",
    "}"
   ]
  },
  {
   "cell_type": "code",
   "execution_count": null,
   "metadata": {},
   "outputs": [],
   "source": [
    "grids = {}\n",
    "for t in targets:\n",
    "    ds = DataLoader(targets[t]).dataset\n",
    "    grids[t] = SurfaceGrid(ds)"
   ]
  },
  {
   "cell_type": "code",
   "execution_count": null,
   "metadata": {},
   "outputs": [],
   "source": [
    "domain = {\n",
    "    \"S\": 40,\n",
    "    \"N\": 41,\n",
    "    \"W\": -74.5,\n",
    "    \"E\": -73.2,\n",
    "}\n",
    "for k, g in grids.items():\n",
    "    plotting.plot_vectorfield(g.dataset, domain=domain)"
   ]
  },
  {
   "cell_type": "code",
   "execution_count": null,
   "metadata": {},
   "outputs": [],
   "source": [
    "# pos = [32.6, -117.17]\n",
    "pos = [40.5, -73.85]\n",
    "# timerng = [\"2022-09-08T06:00\", \"2022-09-12T00:00\"]\n",
    "timerng = [\"2021-08-21T12:00\", \"2021-08-23T18:00\"]\n",
    "\n",
    "timerng = [np.datetime64(t) for t in timerng]"
   ]
  },
  {
   "attachments": {},
   "cell_type": "markdown",
   "metadata": {},
   "source": [
    "notes:\n",
    "\n",
    "tijuana coord: 32.59638977050781, -117.00281524658203\n",
    "\n",
    "new york bay coord: 40.5, -73.85"
   ]
  },
  {
   "cell_type": "code",
   "execution_count": null,
   "metadata": {},
   "outputs": [],
   "source": [
    "fig, axs = plt.subplots(2, 1)\n",
    "fig.set_size_inches(7.5, 7)\n",
    "# hack to cycle the default line colors forward\n",
    "num_col_skip = 2\n",
    "for _ in range(num_col_skip):\n",
    "    axs[0].plot([], [])\n",
    "    axs[1].plot([], [])\n",
    "for k, g in grids.items():\n",
    "    idx = g.get_closest_index(t=None, lat=pos[0], lon=pos[1])\n",
    "    print(\n",
    "        f\"found closest coordinate for {k} at {(g.dataset['lat'][idx[1]].values.item(), g.dataset['lon'][idx[2]].values.item())}\"\n",
    "    )\n",
    "    sliced = g.dataset.isel(lat=idx[1], lon=idx[2]).sel(\n",
    "        time=slice(timerng[0], timerng[1])\n",
    "    )\n",
    "    axs[0].plot(sliced[\"time\"], sliced[\"U\"], label=k)\n",
    "    axs[1].plot(sliced[\"time\"], sliced[\"V\"], label=k)\n",
    "    # 36 hour running average specifically for NY HFRNet readings\n",
    "    if k == \"New York/Jersey HFRNet\":\n",
    "        axs[0].plot(sliced[\"time\"], uniform_filter1d(sliced[\"U\"], size=12, mode=\"nearest\", origin=5), \"--\", label=f\"{k} 12 hr avg\")\n",
    "        axs[1].plot(sliced[\"time\"], uniform_filter1d(sliced[\"V\"], size=12, mode=\"nearest\", origin=5), \"--\", label=f\"{k} 12 hr avg\")\n",
    "for ax in axs:\n",
    "    ax.grid()\n",
    "    ax.legend()\n",
    "    for tick in ax.get_xticklabels():\n",
    "        tick.set_rotation(20)\n",
    "axs[0].set_title(\"Vector zonal component\")\n",
    "axs[0].set_ylabel(\"m/s\")\n",
    "axs[1].set_title(\"Vector meridional component\")\n",
    "axs[1].set_ylabel(\"m/s\")\n",
    "# fig.suptitle(\"Tijuana vector timeseries\", fontsize=16)\n",
    "fig.suptitle(\"New York Bay vector timeseries\", fontsize=16)\n",
    "fig.tight_layout()\n",
    "fig.patch.set_facecolor(\"w\")"
   ]
  }
 ],
 "metadata": {
  "kernelspec": {
   "display_name": "Python 3.7.10 ('py3-parcels')",
   "language": "python",
   "name": "python3"
  },
  "language_info": {
   "codemirror_mode": {
    "name": "ipython",
    "version": 3
   },
   "file_extension": ".py",
   "mimetype": "text/x-python",
   "name": "python",
   "nbconvert_exporter": "python",
   "pygments_lexer": "ipython3",
   "version": "3.11.3"
  },
  "orig_nbformat": 4,
  "vscode": {
   "interpreter": {
    "hash": "0eba6c4b74a2f8ee4f11000f0a8df2ef42b87fd4ae75b12d527f1b8c08aad6c6"
   }
  }
 },
 "nbformat": 4,
 "nbformat_minor": 2
}
